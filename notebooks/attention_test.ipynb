{
 "cells": [
  {
   "cell_type": "markdown",
   "id": "aed25cf7-a131-4285-bb7d-e4ba51a553ea",
   "metadata": {},
   "source": [
    "# checking if i'm right about the attention matrix"
   ]
  },
  {
   "cell_type": "code",
   "execution_count": 1,
   "id": "3f97592c-ecca-44db-9be8-48db56f58449",
   "metadata": {
    "tags": []
   },
   "outputs": [],
   "source": [
    "import torch\n",
    "import einops\n",
    "import numpy as np\n",
    "\n",
    "from scale_alibi.model import get_scale_alibi"
   ]
  },
  {
   "cell_type": "code",
   "execution_count": 25,
   "id": "56ae2854-1243-4e41-9188-aa734b0dda9a",
   "metadata": {
    "tags": []
   },
   "outputs": [
    {
     "data": {
      "text/plain": [
       "array([[[[ 0,  1,  2,  3],\n",
       "         [ 4,  5,  6,  7],\n",
       "         [ 8,  9, 10, 11],\n",
       "         [12, 13, 14, 15]]]])"
      ]
     },
     "execution_count": 25,
     "metadata": {},
     "output_type": "execute_result"
    }
   ],
   "source": [
    "square_size_sm = 4\n",
    "square_size_lg = 8\n",
    "\n",
    "img_sm = np.arange(square_size_sm**2).reshape(square_size_sm,square_size_sm)\n",
    "img_sm = einops.rearrange(img_sm, 'h w -> 1 1 h w')\n",
    "img_sm"
   ]
  },
  {
   "cell_type": "code",
   "execution_count": 26,
   "id": "f96703f9-04c0-4f05-8e80-def8d7b22f51",
   "metadata": {
    "tags": []
   },
   "outputs": [
    {
     "data": {
      "text/plain": [
       "array([[[[ 0,  0,  1,  1,  2,  2,  3,  3],\n",
       "         [ 0,  0,  1,  1,  2,  2,  3,  3],\n",
       "         [ 4,  4,  5,  5,  6,  6,  7,  7],\n",
       "         [ 4,  4,  5,  5,  6,  6,  7,  7],\n",
       "         [ 8,  8,  9,  9, 10, 10, 11, 11],\n",
       "         [ 8,  8,  9,  9, 10, 10, 11, 11],\n",
       "         [12, 12, 13, 13, 14, 14, 15, 15],\n",
       "         [12, 12, 13, 13, 14, 14, 15, 15]]]])"
      ]
     },
     "execution_count": 26,
     "metadata": {},
     "output_type": "execute_result"
    }
   ],
   "source": [
    "img_lg = np.arange(square_size_lg**2).reshape(square_size_lg,square_size_lg)\n",
    "img_lg = img_lg // 2\n",
    "img_lg = img_lg[:4,:]\n",
    "\n",
    "img_lg = einops.repeat(img_lg, 'h w -> (h 2) w')\n",
    "\n",
    "img_lg = einops.rearrange(img_lg, 'h w -> 1 1 h w')\n",
    "\n",
    "img_lg"
   ]
  },
  {
   "cell_type": "code",
   "execution_count": 27,
   "id": "cf23159c-eed9-4d90-b5f1-c0e7ad65dd1e",
   "metadata": {
    "tags": []
   },
   "outputs": [],
   "source": [
    "patch_size = 2\n",
    "\n",
    "sm = einops.rearrange(\n",
    "    img_sm,\n",
    "    'b c (h i) (w j) -> b (h w) (c i j)',\n",
    "    i=patch_size,\n",
    "    j=patch_size\n",
    ")\n",
    "\n",
    "lg = einops.rearrange(\n",
    "    img_lg,\n",
    "    'b c (h i) (w j) -> b (h w) (c i j)',\n",
    "    i=patch_size,\n",
    "    j=patch_size\n",
    ")"
   ]
  },
  {
   "cell_type": "code",
   "execution_count": 5,
   "id": "892abd57-8778-4173-9e18-00dd2fb1c2d7",
   "metadata": {
    "tags": []
   },
   "outputs": [
    {
     "data": {
      "text/plain": [
       "array([[[ 0,  1,  4,  5],\n",
       "        [ 2,  3,  6,  7],\n",
       "        [ 8,  9, 12, 13],\n",
       "        [10, 11, 14, 15]]])"
      ]
     },
     "execution_count": 5,
     "metadata": {},
     "output_type": "execute_result"
    }
   ],
   "source": [
    "sm"
   ]
  },
  {
   "cell_type": "code",
   "execution_count": 29,
   "id": "fcf6c2b4-9122-4659-8782-55591806448c",
   "metadata": {
    "tags": []
   },
   "outputs": [
    {
     "data": {
      "text/plain": [
       "array([[[ 0,  0,  0,  0],\n",
       "        [ 1,  1,  1,  1],\n",
       "        [ 2,  2,  2,  2],\n",
       "        [ 3,  3,  3,  3],\n",
       "        [ 4,  4,  4,  4],\n",
       "        [ 5,  5,  5,  5],\n",
       "        [ 6,  6,  6,  6],\n",
       "        [ 7,  7,  7,  7],\n",
       "        [ 8,  8,  8,  8],\n",
       "        [ 9,  9,  9,  9],\n",
       "        [10, 10, 10, 10],\n",
       "        [11, 11, 11, 11],\n",
       "        [12, 12, 12, 12],\n",
       "        [13, 13, 13, 13],\n",
       "        [14, 14, 14, 14],\n",
       "        [15, 15, 15, 15]]])"
      ]
     },
     "execution_count": 29,
     "metadata": {},
     "output_type": "execute_result"
    }
   ],
   "source": [
    "lg"
   ]
  },
  {
   "cell_type": "code",
   "execution_count": 70,
   "id": "0c035d09-633a-48ae-bf3c-f4332818fb6a",
   "metadata": {
    "tags": []
   },
   "outputs": [
    {
     "data": {
      "text/plain": [
       "array([[ 0,  4,  8, 12],\n",
       "       [ 4,  5,  8, 12],\n",
       "       [ 8,  8, 11, 14],\n",
       "       [12, 12, 14, 16],\n",
       "       [ 4,  0,  4,  8],\n",
       "       [ 5,  4,  5,  8],\n",
       "       [ 8,  8,  8, 11],\n",
       "       [12, 12, 12, 14],\n",
       "       [ 8,  4,  0,  4],\n",
       "       [ 8,  5,  4,  5],\n",
       "       [11,  8,  8,  8],\n",
       "       [14, 12, 12, 12],\n",
       "       [12,  8,  4,  0],\n",
       "       [12,  8,  5,  4],\n",
       "       [14, 11,  8,  8],\n",
       "       [16, 14, 12, 12]])"
      ]
     },
     "execution_count": 70,
     "metadata": {},
     "output_type": "execute_result"
    }
   ],
   "source": [
    "sa_mask = get_scale_alibi(1, 16)\n",
    "sa_mask = sa_mask.detach().squeeze(0).squeeze(0).numpy() * -1024\n",
    "sa_mask = sa_mask.astype(int)\n",
    "sa_mask = sa_mask[:,::4]\n",
    "\n",
    "sa_mask"
   ]
  },
  {
   "cell_type": "code",
   "execution_count": 71,
   "id": "df94b273-7f9d-4085-9aa9-6f608957f4e7",
   "metadata": {
    "tags": []
   },
   "outputs": [
    {
     "name": "stdout",
     "output_type": "stream",
     "text": [
      "sm   [10 11 14 15]\n",
      "lg   [15 15 15 15]\n",
      "attn 12\n"
     ]
    }
   ],
   "source": [
    "sm_idx = 3\n",
    "lg_idx = 15\n",
    "\n",
    "print(f'sm   {sm[0][sm_idx]}')\n",
    "print(f'lg   {lg[0][lg_idx]}')\n",
    "print(f'attn {sa_mask[lg_idx][sm_idx]}')"
   ]
  },
  {
   "cell_type": "code",
   "execution_count": 79,
   "id": "9b24fe8b-4b9f-4986-8d29-c8e373ce2363",
   "metadata": {
    "tags": []
   },
   "outputs": [
    {
     "data": {
      "text/plain": [
       "array([[ 0,  4,  8, 12,  4,  5,  8, 12,  8,  8, 11, 14, 12, 12, 14, 16],\n",
       "       [ 4,  0,  4,  8,  5,  4,  5,  8,  8,  8,  8, 11, 12, 12, 12, 14],\n",
       "       [ 8,  4,  0,  4,  8,  5,  4,  5, 11,  8,  8,  8, 14, 12, 12, 12],\n",
       "       [12,  8,  4,  0, 12,  8,  5,  4, 14, 11,  8,  8, 16, 14, 12, 12],\n",
       "       [ 4,  5,  8, 12,  0,  4,  8, 12,  4,  5,  8, 12,  8,  8, 11, 14],\n",
       "       [ 5,  4,  5,  8,  4,  0,  4,  8,  5,  4,  5,  8,  8,  8,  8, 11],\n",
       "       [ 8,  5,  4,  5,  8,  4,  0,  4,  8,  5,  4,  5, 11,  8,  8,  8],\n",
       "       [12,  8,  5,  4, 12,  8,  4,  0, 12,  8,  5,  4, 14, 11,  8,  8],\n",
       "       [ 8,  8, 11, 14,  4,  5,  8, 12,  0,  4,  8, 12,  4,  5,  8, 12],\n",
       "       [ 8,  8,  8, 11,  5,  4,  5,  8,  4,  0,  4,  8,  5,  4,  5,  8],\n",
       "       [11,  8,  8,  8,  8,  5,  4,  5,  8,  4,  0,  4,  8,  5,  4,  5],\n",
       "       [14, 11,  8,  8, 12,  8,  5,  4, 12,  8,  4,  0, 12,  8,  5,  4],\n",
       "       [12, 12, 14, 16,  8,  8, 11, 14,  4,  5,  8, 12,  0,  4,  8, 12],\n",
       "       [12, 12, 12, 14,  8,  8,  8, 11,  5,  4,  5,  8,  4,  0,  4,  8],\n",
       "       [14, 12, 12, 12, 11,  8,  8,  8,  8,  5,  4,  5,  8,  4,  0,  4],\n",
       "       [16, 14, 12, 12, 14, 11,  8,  8, 12,  8,  5,  4, 12,  8,  4,  0]])"
      ]
     },
     "execution_count": 79,
     "metadata": {},
     "output_type": "execute_result"
    }
   ],
   "source": []
  },
  {
   "cell_type": "code",
   "execution_count": 114,
   "id": "231fb89e-50e7-4de7-a47a-6e629c139e86",
   "metadata": {
    "tags": []
   },
   "outputs": [
    {
     "data": {
      "image/png": "[encoded data removed]",
      "text/plain": [
       "<Figure size 1920x1440 with 1 Axes>"
      ]
     },
     "metadata": {},
     "output_type": "display_data"
    }
   ],
   "source": [
    "sa_mask = get_scale_alibi(1, 16)\n",
    "sa_mask = sa_mask.detach().squeeze(0).squeeze(0).numpy() * -1024\n",
    "sa_mask = sa_mask.astype(int)\n",
    "sa_mask = sa_mask[:,::4]\n",
    "\n",
    "sa_mask\n",
    "\n",
    "from matplotlib import pyplot as plt\n",
    "from matplotlib.ticker import MultipleLocator\n",
    "plt.rcParams['figure.dpi'] = 300\n",
    "\n",
    "fig = plt.figure()\n",
    "ax = fig.add_subplot(111)\n",
    "\n",
    "ax.set_xlabel('low res token idx')\n",
    "ax.xaxis.set_label_position('top') \n",
    "ax.set_ylabel('high res token idx')\n",
    "\n",
    "plt.tight_layout()\n",
    "ax.matshow(sa_mask,cmap='magma')\n",
    "ax.yaxis.set_major_locator(MultipleLocator(1))\n",
    "ax.xaxis.set_major_locator(MultipleLocator(1))\n",
    "# plt.show()\n",
    "\n",
    "plt.savefig('./salibi_attn.png')\n",
    "# plt.matshow(sa_mask, cmap='magma')"
   ]
  },
  {
   "cell_type": "code",
   "execution_count": null,
   "id": "0a905ded-7a57-4c19-8a05-f0d147aeef13",
   "metadata": {},
   "outputs": [],
   "source": []
  },
  {
   "cell_type": "code",
   "execution_count": null,
   "id": "8918a843-5622-489b-b82c-4923cf85b7ff",
   "metadata": {},
   "outputs": [],
   "source": []
  }
 ],
 "metadata": {
  "kernelspec": {
   "display_name": "scale-alibi",
   "language": "python",
   "name": "scale-alibi"
  },
  "language_info": {
   "codemirror_mode": {
    "name": "ipython",
    "version": 3
   },
   "file_extension": ".py",
   "mimetype": "text/x-python",
   "name": "python",
   "nbconvert_exporter": "python",
   "pygments_lexer": "ipython3",
   "version": "3.11.4"
  }
 },
 "nbformat": 4,
 "nbformat_minor": 5
}
